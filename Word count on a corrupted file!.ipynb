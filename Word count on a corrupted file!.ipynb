{
 "cells": [
  {
   "cell_type": "markdown",
   "metadata": {},
   "source": [
    "We have written a very short essay which has been corrupted. \n",
    "\n",
    "The task is to determine the average word length in the essay. \n",
    "\n",
    "Let's take a quick look at our very simple essay."
   ]
  },
  {
   "cell_type": "code",
   "execution_count": 37,
   "metadata": {},
   "outputs": [],
   "source": [
    "# Corrupted file is stored in variable named 'essay'\n",
    "essay = \"Thi@#s is a M@#essy essay!!/\"\n",
    " "
   ]
  },
  {
   "cell_type": "markdown",
   "metadata": {},
   "source": [
    "Now, we have to count how many characters are in our 'essay'"
   ]
  },
  {
   "cell_type": "code",
   "execution_count": 38,
   "metadata": {},
   "outputs": [
    {
     "data": {
      "text/plain": [
       "28"
      ]
     },
     "execution_count": 38,
     "metadata": {},
     "output_type": "execute_result"
    }
   ],
   "source": [
    "len(essay)"
   ]
  },
  {
   "cell_type": "markdown",
   "metadata": {},
   "source": [
    "Of course, we cannot use this as we cannot count the special characters as they will throw the calculations off. \n",
    "Let's remove them.\n",
    "\n",
    "We must create a table to map what is to be removed:"
   ]
  },
  {
   "cell_type": "code",
   "execution_count": 39,
   "metadata": {},
   "outputs": [],
   "source": [
    "table = str.maketrans(\"!@#$%^&*()-,./;'[]<>:?\", 22*\" \") "
   ]
  },
  {
   "cell_type": "markdown",
   "metadata": {},
   "source": [
    "What the above code does it is basically tells Python to look for any of those special characters above and replace it with a space. \n",
    "\n",
    "The space (surrounded by quotation marks on the right side of the black comma) would have had to have been typed 22 times to correspond with each special character so that Python knows what to replace it with, but typing _22*\" \"_ makes Python understand that we mean to duplicate that twenty-two times.\n",
    "\n",
    "\n",
    "We can use the _translate_ method with the table we've created as a parameter to remove the special characters.\n",
    "\n",
    "We will save this in a variable named _punctuationRemoved_"
   ]
  },
  {
   "cell_type": "code",
   "execution_count": 40,
   "metadata": {},
   "outputs": [],
   "source": [
    "punctuationRemoved = essay.translate(table) # Removing the punctuation and saving it to variable 'punctuationRemoved'"
   ]
  },
  {
   "cell_type": "markdown",
   "metadata": {},
   "source": [
    "Let's take a peek at what it looks like before and after:"
   ]
  },
  {
   "cell_type": "code",
   "execution_count": 41,
   "metadata": {},
   "outputs": [
    {
     "name": "stdout",
     "output_type": "stream",
     "text": [
      "Before punctuation removed:  Thi@#s is a M@#essy essay!!/\n",
      "After punctuation removed:  Thi  s is a M  essy essay   \n"
     ]
    }
   ],
   "source": [
    "print(\"Before punctuation removed: \", essay)\n",
    "print(\"After punctuation removed: \", punctuationRemoved)"
   ]
  },
  {
   "cell_type": "markdown",
   "metadata": {},
   "source": [
    "Let's count the characters:"
   ]
  },
  {
   "cell_type": "code",
   "execution_count": 42,
   "metadata": {},
   "outputs": [
    {
     "data": {
      "text/plain": [
       "28"
      ]
     },
     "execution_count": 42,
     "metadata": {},
     "output_type": "execute_result"
    }
   ],
   "source": [
    "len(punctuationRemoved)"
   ]
  },
  {
   "cell_type": "markdown",
   "metadata": {},
   "source": [
    "There's a problem here. There are obviously far fewer than 28 characters in my 'essay.' It appears that the blank spaces are being counted. "
   ]
  },
  {
   "cell_type": "code",
   "execution_count": 43,
   "metadata": {},
   "outputs": [
    {
     "name": "stdout",
     "output_type": "stream",
     "text": [
      "Thi  s is a M  essy essay   \n"
     ]
    }
   ],
   "source": [
    "print(punctuationRemoved)"
   ]
  },
  {
   "cell_type": "markdown",
   "metadata": {},
   "source": [
    "Let's get rid of them:"
   ]
  },
  {
   "cell_type": "code",
   "execution_count": 44,
   "metadata": {},
   "outputs": [],
   "source": [
    "essayNoWhitespace = punctuationRemoved.replace(' ','') # In order to count characters in the essay, excluding spaces."
   ]
  },
  {
   "cell_type": "markdown",
   "metadata": {},
   "source": [
    "Let's take a look at it now:"
   ]
  },
  {
   "cell_type": "code",
   "execution_count": 45,
   "metadata": {},
   "outputs": [
    {
     "name": "stdout",
     "output_type": "stream",
     "text": [
      "ThisisaMessyessay\n"
     ]
    }
   ],
   "source": [
    "print(essayNoWhitespace)"
   ]
  },
  {
   "cell_type": "markdown",
   "metadata": {},
   "source": [
    "This allows Python to only count what is relevant to us."
   ]
  },
  {
   "cell_type": "code",
   "execution_count": 46,
   "metadata": {},
   "outputs": [
    {
     "data": {
      "text/plain": [
       "17"
      ]
     },
     "execution_count": 46,
     "metadata": {},
     "output_type": "execute_result"
    }
   ],
   "source": [
    "len(essayNoWhitespace)"
   ]
  },
  {
   "cell_type": "markdown",
   "metadata": {},
   "source": [
    "Now we're getting somewhere!\n",
    "\n",
    "Let's remind ourselves of the goal. We need to know what the average word length is. \n",
    "\n",
    "What we need then is: \n",
    "\n",
    "_the amount of characters in our essay_ -17- __divided by__ _the amount of words used in our essay._\n",
    "\n",
    "\n",
    "We already have the amount of characters in our essay. What we need now is the amount of words we've used. Of course the example shown here is really short and can be counted by hand, but if we had a much longer essay, that would be tedious. So let's make Python do it for us."
   ]
  },
  {
   "cell_type": "markdown",
   "metadata": {},
   "source": [
    "So, how do we approach having Python count the words? We cannot simply use the _len_ function, because that only tells us how many characters we have:\n",
    "\n"
   ]
  },
  {
   "cell_type": "code",
   "execution_count": 47,
   "metadata": {},
   "outputs": [
    {
     "name": "stdout",
     "output_type": "stream",
     "text": [
      "The count for ' Thi@#s is a M@#essy essay!!/ 'is 28\n"
     ]
    }
   ],
   "source": [
    "print(\"The count for '\",essay,\"'is\", len(essay))"
   ]
  },
  {
   "cell_type": "markdown",
   "metadata": {},
   "source": [
    "So you see, this can't help us as this is counting the characters in our essay - not the words."
   ]
  },
  {
   "cell_type": "markdown",
   "metadata": {},
   "source": [
    "What we need to do is use the _split_ method on our essay to find the spaces, and make a list from that."
   ]
  },
  {
   "cell_type": "code",
   "execution_count": 48,
   "metadata": {},
   "outputs": [],
   "source": [
    "essayWordList = essay.split() # Separates each word, originally separated by a space, and places them in a list.\n"
   ]
  },
  {
   "cell_type": "markdown",
   "metadata": {},
   "source": [
    "Above, we have taken each word from the essay. If there was a space, we knew that was the delimiter for the next word. Python then allowed us to put it in a list and count the elements inside.\n",
    "\n",
    "Finally, we saved the result in a variable named _essayWordList_"
   ]
  },
  {
   "cell_type": "code",
   "execution_count": 49,
   "metadata": {},
   "outputs": [
    {
     "data": {
      "text/plain": [
       "['Thi@#s', 'is', 'a', 'M@#essy', 'essay!!/']"
      ]
     },
     "execution_count": 49,
     "metadata": {},
     "output_type": "execute_result"
    }
   ],
   "source": [
    "essayWordList"
   ]
  },
  {
   "cell_type": "code",
   "execution_count": 50,
   "metadata": {},
   "outputs": [
    {
     "data": {
      "text/plain": [
       "5"
      ]
     },
     "execution_count": 50,
     "metadata": {},
     "output_type": "execute_result"
    }
   ],
   "source": [
    "len(essayWordList)"
   ]
  },
  {
   "cell_type": "markdown",
   "metadata": {},
   "source": [
    "There are five words used in our essay in total. \n",
    "\n",
    "Now we can arrive at the answer we were seeking, which is _the amount of characters_ divided by _the amount of words used_ in order to determine the average word length."
   ]
  },
  {
   "cell_type": "code",
   "execution_count": 51,
   "metadata": {},
   "outputs": [
    {
     "name": "stdout",
     "output_type": "stream",
     "text": [
      "The average word length in this essay is 3.4 words.\n"
     ]
    }
   ],
   "source": [
    "averageWordLength = len(essayNoWhitespace) / len(essayWordList) # valid characters used divided by amount of words used.\n",
    "\n",
    "print(\"The average word length in this essay is\", averageWordLength, \"words.\")"
   ]
  },
  {
   "cell_type": "markdown",
   "metadata": {},
   "source": [
    "Voilà!"
   ]
  },
  {
   "cell_type": "code",
   "execution_count": null,
   "metadata": {},
   "outputs": [],
   "source": []
  }
 ],
 "metadata": {
  "kernelspec": {
   "display_name": "Python 3",
   "language": "python",
   "name": "python3"
  },
  "language_info": {
   "codemirror_mode": {
    "name": "ipython",
    "version": 3
   },
   "file_extension": ".py",
   "mimetype": "text/x-python",
   "name": "python",
   "nbconvert_exporter": "python",
   "pygments_lexer": "ipython3",
   "version": "3.7.4"
  }
 },
 "nbformat": 4,
 "nbformat_minor": 2
}
